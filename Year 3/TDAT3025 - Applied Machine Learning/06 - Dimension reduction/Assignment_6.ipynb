{
 "cells": [
  {
   "cell_type": "markdown",
   "metadata": {},
   "source": [
    "# Exercise 6\n",
    "\n",
    "For this exercise you can use either Python with sklearn or Weka.\n",
    "\n",
    "* Using the UCI mushroom dataset from the last exercise, perform a feature selection using a classifier evaluator. Which features are most discriminitave?\n",
    "* Use principal components analysis to construct a reduced space. Which combination of features explain the most variance in the dataset?\n",
    "* Do you see any overlap between the PCA features and those obtained from feature selection?"
   ]
  },
  {
   "cell_type": "markdown",
   "metadata": {},
   "source": [
    "### Feature Selection using a classifier evaluator"
   ]
  },
  {
   "cell_type": "code",
   "execution_count": 83,
   "metadata": {},
   "outputs": [
    {
     "name": "stdout",
     "output_type": "stream",
     "text": [
      "(8124, 117)\n",
      "(8124, 2)\n"
     ]
    },
    {
     "data": {
      "text/plain": [
       "array(['odor_f', 'odor_n'], dtype=object)"
      ]
     },
     "execution_count": 83,
     "metadata": {},
     "output_type": "execute_result"
    }
   ],
   "source": [
    "from sklearn.feature_selection import SelectKBest\n",
    "from sklearn.feature_selection import chi2\n",
    "import numpy as np\n",
    "import matplotlib.pyplot as plt\n",
    "import pandas as pd\n",
    "\n",
    "#Grabbing the mushroom data\n",
    "df = pd.read_csv(\"agaricus-lepiota (1).data\")\n",
    "\n",
    "#Figuring out which features that tells us the most about whether we can eat a mushroom or not\n",
    "df1 = df.drop(['edibility'], axis=1) # dropping edibility since thats our y\n",
    "mushrooms = pd.get_dummies(df1) # X\n",
    "edibility = pd.get_dummies(df['edibility']) # y\n",
    "\n",
    "print(mushrooms.shape)\n",
    "\n",
    "skb = SelectKBest(chi2, k=2)\n",
    "skb.fit(mushrooms, edibility)\n",
    "mushrooms_new = skb.transform(mushrooms)\n",
    "\n",
    "print(mushrooms_new.shape)\n",
    "\n",
    "# Fetch the selected feature indices and print the corresponding feature names\n",
    "np.array(mushrooms.columns)[skb.get_support(indices=True)]"
   ]
  },
  {
   "cell_type": "markdown",
   "metadata": {},
   "source": [
    "### PCA"
   ]
  },
  {
   "cell_type": "code",
   "execution_count": 82,
   "metadata": {},
   "outputs": [
    {
     "name": "stdout",
     "output_type": "stream",
     "text": [
      "PC-1    0.235773\n",
      "PC-2   -0.097539\n",
      "Name: stalk-surface-above-ring_k, dtype: float64\n",
      "PC-1    0.151946\n",
      "PC-2    0.242009\n",
      "Name: stalk-root_?, dtype: float64\n"
     ]
    }
   ],
   "source": [
    "from sklearn import decomposition\n",
    "from sklearn.decomposition import PCA\n",
    "from sklearn import preprocessing\n",
    "\n",
    "#Need to scale data so I can use PCA on it\n",
    "data_scaled = pd.DataFrame(preprocessing.scale(mushrooms),columns = mushrooms.columns) \n",
    "\n",
    "# PCA\n",
    "pca = PCA(n_components=2)\n",
    "pca.fit_transform(data_scaled)\n",
    "\n",
    "#Creating a new dataframe with the output \n",
    "new_dataframe = pd.DataFrame(pca.components_,columns=data_scaled.columns,index = ['PC-1','PC-2'])\n",
    "new_dataframe = new_dataframe.T\n",
    "\n",
    "#finding what features that explains the most variance in the dataset\n",
    "print(new_dataframe.iloc[new_dataframe['PC-1'].argmax(),:])\n",
    "print(new_dataframe.iloc[new_dataframe['PC-2'].argmax(),:])"
   ]
  },
  {
   "cell_type": "markdown",
   "metadata": {},
   "source": [
    "In our feature selection using a classifier evaluator we get that odor_f & odor_n gives us the best indication if we can eat a mushroom or not, but with PCA we get stalk_surface_above_ring_k & stalk_root"
   ]
  }
 ],
 "metadata": {
  "kernelspec": {
   "display_name": "Python 3",
   "language": "python",
   "name": "python3"
  },
  "language_info": {
   "codemirror_mode": {
    "name": "ipython",
    "version": 3
   },
   "file_extension": ".py",
   "mimetype": "text/x-python",
   "name": "python",
   "nbconvert_exporter": "python",
   "pygments_lexer": "ipython3",
   "version": "3.8.3"
  }
 },
 "nbformat": 4,
 "nbformat_minor": 4
}
